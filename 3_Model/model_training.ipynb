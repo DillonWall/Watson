{
 "cells": [
  {
   "cell_type": "markdown",
   "metadata": {},
   "source": [
    "# Create and Train the model"
   ]
  },
  {
   "cell_type": "markdown",
   "metadata": {},
   "source": [
    "## Download, Imports, and Config"
   ]
  },
  {
   "cell_type": "markdown",
   "metadata": {},
   "source": [
    "Make sure to run the correct PyTorch install command such as\n",
    "\n",
    "```conda install pytorch torchvision torchaudio pytorch-cuda=11.8 -c pytorch -c nvidia```\n",
    "\n",
    "in your conda environment before running this notebook.\n",
    "\n",
    "This command can be found from the official PyTorch website: https://pytorch.org/get-started/locally/"
   ]
  },
  {
   "cell_type": "markdown",
   "metadata": {},
   "source": [
    "Imports"
   ]
  },
  {
   "cell_type": "code",
   "execution_count": 1,
   "metadata": {},
   "outputs": [],
   "source": [
    "# Custom imports\n",
    "import sys\n",
    "sys.path.insert(1, \"../libs\")\n",
    "from postgres_data import load_postgresql_data\n",
    "\n",
    "# General imports\n",
    "import os\n",
    "import random\n",
    "import time\n",
    "import datetime\n",
    "import gc\n",
    "\n",
    "# ML imports\n",
    "from transformers import BertTokenizer, BertForSequenceClassification, BertConfig, get_linear_schedule_with_warmup\n",
    "import numpy as np\n",
    "import pandas as pd\n",
    "from sklearn.model_selection import train_test_split\n",
    "from sklearn.metrics import roc_auc_score, accuracy_score\n",
    "import torch\n",
    "from torch.utils.data import Dataset, DataLoader\n",
    "from torch.optim import AdamW"
   ]
  },
  {
   "cell_type": "markdown",
   "metadata": {},
   "source": [
    "Config"
   ]
  },
  {
   "cell_type": "code",
   "execution_count": 2,
   "metadata": {},
   "outputs": [
    {
     "name": "stdout",
     "output_type": "stream",
     "text": [
      "There are 1 GPU(s) available.\n",
      "We will use the GPU: NVIDIA GeForce RTX 2080\n"
     ]
    }
   ],
   "source": [
    "SEED = 777\n",
    "VALIDATION_RATIO = 0.2 # 20% of training data will be used for validation\n",
    "\n",
    "MODEL_TYPE = \"bert-base-multilingual-uncased\"\n",
    "L_RATE = 1e-5\n",
    "MAX_LEN = 80\n",
    "NUM_EPOCHS = 3\n",
    "BATCH_SIZE = 16 # For fine-tuning BERT on a specific task, the authors recommend a batch size of 16 or 32.\n",
    "NUM_CORES = 0 # os.cpu_count()\n",
    "\n",
    "torch.manual_seed(SEED)\n",
    "\n",
    "MODELS_DIR = \"./models\"\n",
    "if not os.path.exists(MODELS_DIR):\n",
    "    os.makedirs(MODELS_DIR)\n",
    "\n",
    "# Check for GPU to speed up training\n",
    "# If there's a GPU available...\n",
    "if torch.cuda.is_available():    \n",
    "\n",
    "    # Tell PyTorch to use the GPU.    \n",
    "    device = torch.device(\"cuda\")\n",
    "\n",
    "    print(\"There are %d GPU(s) available.\" % torch.cuda.device_count())\n",
    "\n",
    "    print(\"We will use the GPU:\", torch.cuda.get_device_name(0))\n",
    "\n",
    "# If not...\n",
    "else:\n",
    "    # device = torch.device(\"cpu\")\n",
    "    raise Exception(\"No GPU available, please setup GPU with CUDA before running this notebook\")\n",
    "\n",
    "# Note: For TPU\n",
    "# device = xm.xla_device()"
   ]
  },
  {
   "cell_type": "markdown",
   "metadata": {},
   "source": [
    "## Loading Data and Preprocessing"
   ]
  },
  {
   "cell_type": "markdown",
   "metadata": {},
   "source": [
    "Load Data"
   ]
  },
  {
   "cell_type": "code",
   "execution_count": 3,
   "metadata": {},
   "outputs": [],
   "source": [
    "# create train and test dataframes\n",
    "train_df_presplit, test_df = load_postgresql_data()"
   ]
  },
  {
   "cell_type": "markdown",
   "metadata": {},
   "source": [
    "Preprocessing"
   ]
  },
  {
   "cell_type": "code",
   "execution_count": 4,
   "metadata": {},
   "outputs": [
    {
     "name": "stdout",
     "output_type": "stream",
     "text": [
      "Train data size:  58176\n",
      "Validation data size:  14544\n"
     ]
    }
   ],
   "source": [
    "#train_test_split to create validation set\n",
    "train_df, val_df = train_test_split(train_df_presplit, random_state=SEED, test_size=VALIDATION_RATIO)\n",
    "train_df.reset_index(drop=True, inplace=True) # reset indecies, otherwise indecies would be retained from original df\n",
    "val_df.reset_index(drop=True, inplace=True)\n",
    "print(\"Train data size: \", train_df.size)\n",
    "print(\"Validation data size: \", val_df.size)"
   ]
  },
  {
   "cell_type": "markdown",
   "metadata": {},
   "source": [
    "## Define Model and Training"
   ]
  },
  {
   "cell_type": "markdown",
   "metadata": {},
   "source": [
    "### Setup Datasets to use BERT's encoding, and DataLoaders for each Dataset"
   ]
  },
  {
   "cell_type": "code",
   "execution_count": 5,
   "metadata": {},
   "outputs": [
    {
     "data": {
      "text/plain": [
       "105879"
      ]
     },
     "execution_count": 5,
     "metadata": {},
     "output_type": "execute_result"
    }
   ],
   "source": [
    "tokenizer = BertTokenizer.from_pretrained(MODEL_TYPE, do_lower_case=True)\n",
    "len(tokenizer.vocab)"
   ]
  },
  {
   "cell_type": "markdown",
   "metadata": {},
   "source": [
    "To encode a sentence with BERT, we are required to:\n",
    "\n",
    "  -  Add special tokens to the start and end of each sentence.\n",
    "  -  Pad & truncate all sentences to a single constant length.\n",
    "  -  Explicitly differentiate real tokens from padding tokens with the \"attention mask\".\n"
   ]
  },
  {
   "cell_type": "code",
   "execution_count": 6,
   "metadata": {},
   "outputs": [],
   "source": [
    "def encode_sentence_pair(sentence1, sentence2):\n",
    "    \"\"\"\n",
    "    Encode a sentence pair using BERT tokenizer and return the encoded array\n",
    "    \"\"\"\n",
    "    encoded_dict = tokenizer.encode_plus(\n",
    "        sentence1, sentence2,           # Sentences to encode.\n",
    "        add_special_tokens = True,      # Add '[CLS]' and '[SEP]'\n",
    "        max_length = MAX_LEN,           # Pad or truncate.\n",
    "        padding = \"max_length\",\n",
    "        return_attention_mask = True,   # Construct attn. masks.\n",
    "        return_tensors = \"pt\",          # Return pytorch tensors.\n",
    "        truncation = True\n",
    "    )\n",
    "\n",
    "    # These are torch tensors\n",
    "    padded_token_list = encoded_dict[\"input_ids\"][0]\n",
    "    att_mask = encoded_dict[\"attention_mask\"][0]\n",
    "    token_type_ids = encoded_dict[\"token_type_ids\"][0]\n",
    "\n",
    "    return (padded_token_list, att_mask, token_type_ids)"
   ]
  },
  {
   "cell_type": "code",
   "execution_count": 7,
   "metadata": {},
   "outputs": [],
   "source": [
    "class LabelledDataset(Dataset):\n",
    "\n",
    "    def __init__(self, df):        \n",
    "        self.df_data = df\n",
    "\n",
    "\n",
    "    def __getitem__(self, index):\n",
    "        # get the sentence from the dataframe\n",
    "        sentence1 = self.df_data.loc[index, \"premise\"]\n",
    "        sentence2 = self.df_data.loc[index, \"hypothesis\"]\n",
    "\n",
    "        # Encode the sentences\n",
    "        padded_token_list, att_mask, token_type_ids = encode_sentence_pair(sentence1, sentence2)\n",
    "        \n",
    "        # Convert the target to a torch tensor\n",
    "        target = torch.tensor(self.df_data.loc[index, \"label\"])\n",
    "\n",
    "        sample = (padded_token_list, att_mask, token_type_ids, target)        \n",
    "\n",
    "        return sample\n",
    "\n",
    "\n",
    "    def __len__(self):\n",
    "        return len(self.df_data)"
   ]
  },
  {
   "cell_type": "code",
   "execution_count": 8,
   "metadata": {},
   "outputs": [],
   "source": [
    "class TestDataset(Dataset):\n",
    "\n",
    "    def __init__(self, df):\n",
    "        self.df_data = df\n",
    "\n",
    "\n",
    "    def __getitem__(self, index):\n",
    "        # get the sentence from the dataframe\n",
    "        sentence1 = self.df_data.loc[index, \"premise\"]\n",
    "        sentence2 = self.df_data.loc[index, \"hypothesis\"]\n",
    "\n",
    "        # Encode the sentences\n",
    "        padded_token_list, att_mask, token_type_ids = encode_sentence_pair(sentence1, sentence2)               \n",
    "\n",
    "        sample = (padded_token_list, att_mask, token_type_ids)\n",
    "\n",
    "        return sample\n",
    "\n",
    "\n",
    "    def __len__(self):\n",
    "        return len(self.df_data)"
   ]
  },
  {
   "cell_type": "code",
   "execution_count": 9,
   "metadata": {},
   "outputs": [
    {
     "name": "stdout",
     "output_type": "stream",
     "text": [
      "606\n",
      "152\n",
      "325\n"
     ]
    }
   ],
   "source": [
    "train_data = LabelledDataset(train_df)\n",
    "val_data = LabelledDataset(val_df)\n",
    "test_data = TestDataset(test_df)\n",
    "\n",
    "train_dataloader = torch.utils.data.DataLoader(\n",
    "    train_data,\n",
    "    batch_size=BATCH_SIZE,\n",
    "    shuffle=True,\n",
    "    num_workers=NUM_CORES,\n",
    "    pin_memory=True # Speeds up data transfer from CPU to GPU\n",
    ")\n",
    "\n",
    "val_dataloader = torch.utils.data.DataLoader(\n",
    "    val_data,\n",
    "    batch_size=BATCH_SIZE,\n",
    "    shuffle=True,\n",
    "    num_workers=NUM_CORES,\n",
    "    pin_memory=True\n",
    ")\n",
    "\n",
    "test_dataloader = torch.utils.data.DataLoader(\n",
    "    test_data,\n",
    "    batch_size=BATCH_SIZE,\n",
    "    shuffle=True,\n",
    "    num_workers=NUM_CORES,\n",
    "    pin_memory=True\n",
    ")\n",
    "\n",
    "print(len(train_dataloader))\n",
    "print(len(val_dataloader))\n",
    "print(len(test_dataloader))"
   ]
  },
  {
   "cell_type": "code",
   "execution_count": 10,
   "metadata": {},
   "outputs": [
    {
     "name": "stderr",
     "output_type": "stream",
     "text": [
      "Be aware, overflowing tokens are not returned for the setting you have chosen, i.e. sequence pairs with the 'longest_first' truncation strategy. So the returned list will always be empty even if some tokens have been removed.\n"
     ]
    },
    {
     "name": "stdout",
     "output_type": "stream",
     "text": [
      "torch.Size([16, 80])\n",
      "torch.Size([16, 80])\n",
      "torch.Size([16, 80])\n",
      "torch.Size([16])\n"
     ]
    }
   ],
   "source": [
    "# testing out our dataloader to ensure correct output of 1 batch\n",
    "train_iter = iter(train_dataloader)\n",
    "padded_token_list, att_mask, token_type_ids, target = next(train_iter)\n",
    "\n",
    "print(padded_token_list.shape)\n",
    "print(att_mask.shape)\n",
    "print(token_type_ids.shape)\n",
    "print(target.shape)"
   ]
  },
  {
   "cell_type": "markdown",
   "metadata": {},
   "source": [
    "### Model Definition"
   ]
  },
  {
   "cell_type": "code",
   "execution_count": 11,
   "metadata": {},
   "outputs": [
    {
     "name": "stderr",
     "output_type": "stream",
     "text": [
      "Some weights of BertForSequenceClassification were not initialized from the model checkpoint at bert-base-multilingual-uncased and are newly initialized: ['classifier.weight', 'classifier.bias']\n",
      "You should probably TRAIN this model on a down-stream task to be able to use it for predictions and inference.\n"
     ]
    },
    {
     "data": {
      "text/plain": [
       "BertForSequenceClassification(\n",
       "  (bert): BertModel(\n",
       "    (embeddings): BertEmbeddings(\n",
       "      (word_embeddings): Embedding(105879, 768, padding_idx=0)\n",
       "      (position_embeddings): Embedding(512, 768)\n",
       "      (token_type_embeddings): Embedding(2, 768)\n",
       "      (LayerNorm): LayerNorm((768,), eps=1e-12, elementwise_affine=True)\n",
       "      (dropout): Dropout(p=0.1, inplace=False)\n",
       "    )\n",
       "    (encoder): BertEncoder(\n",
       "      (layer): ModuleList(\n",
       "        (0-11): 12 x BertLayer(\n",
       "          (attention): BertAttention(\n",
       "            (self): BertSelfAttention(\n",
       "              (query): Linear(in_features=768, out_features=768, bias=True)\n",
       "              (key): Linear(in_features=768, out_features=768, bias=True)\n",
       "              (value): Linear(in_features=768, out_features=768, bias=True)\n",
       "              (dropout): Dropout(p=0.1, inplace=False)\n",
       "            )\n",
       "            (output): BertSelfOutput(\n",
       "              (dense): Linear(in_features=768, out_features=768, bias=True)\n",
       "              (LayerNorm): LayerNorm((768,), eps=1e-12, elementwise_affine=True)\n",
       "              (dropout): Dropout(p=0.1, inplace=False)\n",
       "            )\n",
       "          )\n",
       "          (intermediate): BertIntermediate(\n",
       "            (dense): Linear(in_features=768, out_features=3072, bias=True)\n",
       "            (intermediate_act_fn): GELUActivation()\n",
       "          )\n",
       "          (output): BertOutput(\n",
       "            (dense): Linear(in_features=3072, out_features=768, bias=True)\n",
       "            (LayerNorm): LayerNorm((768,), eps=1e-12, elementwise_affine=True)\n",
       "            (dropout): Dropout(p=0.1, inplace=False)\n",
       "          )\n",
       "        )\n",
       "      )\n",
       "    )\n",
       "    (pooler): BertPooler(\n",
       "      (dense): Linear(in_features=768, out_features=768, bias=True)\n",
       "      (activation): Tanh()\n",
       "    )\n",
       "  )\n",
       "  (dropout): Dropout(p=0.1, inplace=False)\n",
       "  (classifier): Linear(in_features=768, out_features=3, bias=True)\n",
       ")"
      ]
     },
     "execution_count": 11,
     "metadata": {},
     "output_type": "execute_result"
    }
   ],
   "source": [
    "# Load BertForSequenceClassification, the pretrained BERT model with a single \n",
    "# linear classification layer on top. \n",
    "model = BertForSequenceClassification.from_pretrained(\n",
    "    MODEL_TYPE,\n",
    "    num_labels = 3, # The number of output labels--In our case 3\n",
    "    output_attentions = False, # Whether the model returns attentions weights.\n",
    "    output_hidden_states = False, # Whether the model returns all hidden-states.\n",
    ")\n",
    "\n",
    "# Tell pytorch to run this model on the GPU.\n",
    "model.to(device)\n",
    "model.train()"
   ]
  },
  {
   "cell_type": "code",
   "execution_count": 12,
   "metadata": {},
   "outputs": [
    {
     "name": "stdout",
     "output_type": "stream",
     "text": [
      "The BERT model has 201 different named parameters.\n",
      "\n",
      "==== Embedding Layer ====\n",
      "\n",
      "bert.embeddings.word_embeddings.weight                  (105879, 768)\n",
      "bert.embeddings.position_embeddings.weight                (512, 768)\n",
      "bert.embeddings.token_type_embeddings.weight                (2, 768)\n",
      "bert.embeddings.LayerNorm.weight                              (768,)\n",
      "bert.embeddings.LayerNorm.bias                                (768,)\n",
      "\n",
      "==== First Transformer ====\n",
      "\n",
      "bert.encoder.layer.0.attention.self.query.weight          (768, 768)\n",
      "bert.encoder.layer.0.attention.self.query.bias                (768,)\n",
      "bert.encoder.layer.0.attention.self.key.weight            (768, 768)\n",
      "bert.encoder.layer.0.attention.self.key.bias                  (768,)\n",
      "bert.encoder.layer.0.attention.self.value.weight          (768, 768)\n",
      "bert.encoder.layer.0.attention.self.value.bias                (768,)\n",
      "bert.encoder.layer.0.attention.output.dense.weight        (768, 768)\n",
      "bert.encoder.layer.0.attention.output.dense.bias              (768,)\n",
      "bert.encoder.layer.0.attention.output.LayerNorm.weight        (768,)\n",
      "bert.encoder.layer.0.attention.output.LayerNorm.bias          (768,)\n",
      "bert.encoder.layer.0.intermediate.dense.weight           (3072, 768)\n",
      "bert.encoder.layer.0.intermediate.dense.bias                 (3072,)\n",
      "bert.encoder.layer.0.output.dense.weight                 (768, 3072)\n",
      "bert.encoder.layer.0.output.dense.bias                        (768,)\n",
      "bert.encoder.layer.0.output.LayerNorm.weight                  (768,)\n",
      "bert.encoder.layer.0.output.LayerNorm.bias                    (768,)\n",
      "\n",
      "==== Output Layer ====\n",
      "\n",
      "bert.pooler.dense.weight                                  (768, 768)\n",
      "bert.pooler.dense.bias                                        (768,)\n",
      "classifier.weight                                           (3, 768)\n",
      "classifier.bias                                                 (3,)\n"
     ]
    }
   ],
   "source": [
    "# Print information about the model\n",
    "\n",
    "# Get all of the model's parameters as a list of tuples.\n",
    "params = list(model.named_parameters())\n",
    "\n",
    "print(\"The BERT model has {:} different named parameters.\\n\".format(len(params)))\n",
    "\n",
    "print(\"==== Embedding Layer ====\\n\")\n",
    "\n",
    "for p in params[0:5]:\n",
    "    print(\"{:<55} {:>12}\".format(p[0], str(tuple(p[1].size()))))\n",
    "\n",
    "print(\"\\n==== First Transformer ====\\n\")\n",
    "\n",
    "for p in params[5:21]:\n",
    "    print(\"{:<55} {:>12}\".format(p[0], str(tuple(p[1].size()))))\n",
    "\n",
    "print(\"\\n==== Output Layer ====\\n\")\n",
    "\n",
    "for p in params[-4:]:\n",
    "    print(\"{:<55} {:>12}\".format(p[0], str(tuple(p[1].size()))))"
   ]
  },
  {
   "cell_type": "markdown",
   "metadata": {},
   "source": [
    "Quick test of the model outputs"
   ]
  },
  {
   "cell_type": "code",
   "execution_count": 13,
   "metadata": {},
   "outputs": [],
   "source": [
    "batch = next(train_iter)\n",
    "\n",
    "b_input_ids = batch[0].to(device)\n",
    "b_input_mask = batch[1].to(device)\n",
    "b_token_type_ids = batch[2].to(device)\n",
    "b_labels = batch[3].to(device)"
   ]
  },
  {
   "cell_type": "code",
   "execution_count": 14,
   "metadata": {},
   "outputs": [],
   "source": [
    "outputs = model(\n",
    "    b_input_ids, \n",
    "    token_type_ids=b_token_type_ids, \n",
    "    attention_mask=b_input_mask,\n",
    "    labels=b_labels\n",
    ")"
   ]
  },
  {
   "cell_type": "code",
   "execution_count": 15,
   "metadata": {},
   "outputs": [
    {
     "data": {
      "text/plain": [
       "SequenceClassifierOutput(loss=tensor(1.1789, device='cuda:0', grad_fn=<NllLossBackward0>), logits=tensor([[ 0.9198,  0.4752, -0.1098],\n",
       "        [ 1.1001,  0.6670, -0.2070],\n",
       "        [ 0.2564,  0.1741, -0.0255],\n",
       "        [ 1.2721,  0.5832, -0.1534],\n",
       "        [-0.3171, -0.0272,  0.0790],\n",
       "        [ 0.5413,  0.5114, -0.1306],\n",
       "        [ 0.4053,  0.2602, -0.1467],\n",
       "        [ 0.3401,  0.2550, -0.1992],\n",
       "        [ 0.4960,  0.3067, -0.1486],\n",
       "        [ 0.7442,  0.5038, -0.4522],\n",
       "        [ 0.6268,  0.3220, -0.0781],\n",
       "        [ 1.0172,  0.5420, -0.2381],\n",
       "        [ 1.0084,  0.3417, -0.2037],\n",
       "        [ 1.0759,  0.5913,  0.0179],\n",
       "        [ 0.5961,  0.4875, -0.0893],\n",
       "        [ 1.0723,  0.3235, -0.2735]], device='cuda:0',\n",
       "       grad_fn=<AddmmBackward0>), hidden_states=None, attentions=None)"
      ]
     },
     "execution_count": 15,
     "metadata": {},
     "output_type": "execute_result"
    }
   ],
   "source": [
    "outputs"
   ]
  },
  {
   "cell_type": "code",
   "execution_count": 16,
   "metadata": {},
   "outputs": [
    {
     "data": {
      "text/plain": [
       "array([0, 0, 0, 0, 2, 0, 0, 0, 0, 0, 0, 0, 0, 0, 0, 0], dtype=int64)"
      ]
     },
     "execution_count": 16,
     "metadata": {},
     "output_type": "execute_result"
    }
   ],
   "source": [
    "# Get the predictions for each training example in the batch.\n",
    "preds = outputs[1].detach().cpu().numpy()\n",
    "\n",
    "y_true = b_labels.detach().cpu().numpy()\n",
    "y_pred = np.argmax(preds, axis=1)\n",
    "\n",
    "y_pred"
   ]
  },
  {
   "cell_type": "code",
   "execution_count": 17,
   "metadata": {},
   "outputs": [
    {
     "data": {
      "text/plain": [
       "0.375"
      ]
     },
     "execution_count": 17,
     "metadata": {},
     "output_type": "execute_result"
    }
   ],
   "source": [
    "# This is the accuracy without any fine tuning based on the first batch of the training set.\n",
    "val_acc = accuracy_score(y_true, y_pred)\n",
    "val_acc"
   ]
  },
  {
   "cell_type": "markdown",
   "metadata": {},
   "source": [
    "Optimizer and Scheduler"
   ]
  },
  {
   "cell_type": "code",
   "execution_count": 18,
   "metadata": {},
   "outputs": [],
   "source": [
    "optimizer = AdamW(model.parameters(), lr=L_RATE, eps = 1e-8) # eps is added to avoid nan (term that is added to the denominator)"
   ]
  },
  {
   "cell_type": "code",
   "execution_count": 19,
   "metadata": {},
   "outputs": [],
   "source": [
    "# Total number of training steps is number of batches * number of epochs.\n",
    "total_steps = len(train_dataloader) * NUM_EPOCHS\n",
    "\n",
    "# Create the learning rate scheduler.\n",
    "scheduler = get_linear_schedule_with_warmup(\n",
    "    optimizer, \n",
    "    num_warmup_steps = 0, # Default value in run_glue.py\n",
    "    num_training_steps = total_steps\n",
    ")"
   ]
  },
  {
   "cell_type": "markdown",
   "metadata": {},
   "source": [
    "### Training"
   ]
  },
  {
   "cell_type": "markdown",
   "metadata": {},
   "source": [
    "Initialization"
   ]
  },
  {
   "cell_type": "code",
   "execution_count": 20,
   "metadata": {},
   "outputs": [],
   "source": [
    "random.seed(SEED)\n",
    "np.random.seed(SEED)\n",
    "torch.manual_seed(SEED)\n",
    "torch.cuda.manual_seed_all(SEED)\n",
    "\n",
    "# Store the average loss and validation accuracy after each epoch so we can plot them.\n",
    "loss_values = []\n",
    "accuracy_values = []\n",
    "val_loss_values = []\n",
    "val_accuracy_values = []"
   ]
  },
  {
   "cell_type": "markdown",
   "metadata": {},
   "source": [
    "Helper Functions"
   ]
  },
  {
   "cell_type": "code",
   "execution_count": 21,
   "metadata": {},
   "outputs": [],
   "source": [
    "def flat_accuracy(preds, labels):\n",
    "    '''\n",
    "    Function to calculate the accuracy of our predictions vs labels\n",
    "    '''\n",
    "    pred_flat = np.argmax(preds, axis=1).flatten()\n",
    "    labels_flat = labels.flatten()\n",
    "    return np.sum(pred_flat == labels_flat) / len(labels_flat)"
   ]
  },
  {
   "cell_type": "code",
   "execution_count": 22,
   "metadata": {},
   "outputs": [],
   "source": [
    "def format_time(elapsed):\n",
    "    '''\n",
    "    Takes a time in seconds and returns a string hh:mm:ss\n",
    "    '''\n",
    "    # Round to the nearest second.\n",
    "    elapsed_rounded = int(round((elapsed)))\n",
    "    \n",
    "    # Format as hh:mm:ss\n",
    "    return str(datetime.timedelta(seconds=elapsed_rounded))"
   ]
  },
  {
   "cell_type": "markdown",
   "metadata": {},
   "source": [
    "Training loop:\n",
    "\n",
    " *   Unpack our data inputs and labels\n",
    " *   Load data onto the GPU for acceleration\n",
    " *   Clear out the gradients calculated in the previous pass.\n",
    "     *   In pytorch the gradients accumulate by default (useful for things like RNNs) unless you explicitly clear them out.\n",
    " *   Forward pass (feed input data through the network)\n",
    " *   Backward pass (backpropagation)\n",
    " *   Tell the network to update parameters with optimizer.step()\n",
    " *   Track variables for monitoring progress\n",
    "\n",
    " Evalution loop:\n",
    "\n",
    " *   Unpack our data inputs and labels\n",
    " *   Load data onto the GPU for acceleration\n",
    " *   Forward pass (feed input data through the network)\n",
    " *   Compute loss on our validation data and track variables for monitoring progress"
   ]
  },
  {
   "cell_type": "code",
   "execution_count": 23,
   "metadata": {},
   "outputs": [],
   "source": [
    "# Disable warning\n",
    "import transformers\n",
    "transformers.logging.set_verbosity_error()\n",
    "\n",
    "# import logging\n",
    "# logging.disable(logging.WARNING)"
   ]
  },
  {
   "cell_type": "code",
   "execution_count": 24,
   "metadata": {},
   "outputs": [
    {
     "name": "stdout",
     "output_type": "stream",
     "text": [
      "\n",
      "======== Epoch 1 / 3 ========\n",
      "Training...\n"
     ]
    },
    {
     "name": "stdout",
     "output_type": "stream",
     "text": [
      "  Batch    40  of    606.    Elapsed: 0:00:07.    Loss: 1.11.    Accuracy: 0.37\n",
      "  Batch    80  of    606.    Elapsed: 0:00:13.    Loss: 1.08.    Accuracy: 0.40\n",
      "  Batch   120  of    606.    Elapsed: 0:00:20.    Loss: 1.04.    Accuracy: 0.47\n",
      "  Batch   160  of    606.    Elapsed: 0:00:26.    Loss: 0.98.    Accuracy: 0.51\n",
      "  Batch   200  of    606.    Elapsed: 0:00:32.    Loss: 0.97.    Accuracy: 0.52\n",
      "  Batch   240  of    606.    Elapsed: 0:00:39.    Loss: 0.99.    Accuracy: 0.52\n",
      "  Batch   280  of    606.    Elapsed: 0:00:45.    Loss: 0.95.    Accuracy: 0.55\n",
      "  Batch   320  of    606.    Elapsed: 0:00:52.    Loss: 0.96.    Accuracy: 0.57\n",
      "  Batch   360  of    606.    Elapsed: 0:00:59.    Loss: 0.97.    Accuracy: 0.51\n",
      "  Batch   400  of    606.    Elapsed: 0:01:05.    Loss: 0.92.    Accuracy: 0.54\n",
      "  Batch   440  of    606.    Elapsed: 0:01:12.    Loss: 0.93.    Accuracy: 0.57\n",
      "  Batch   480  of    606.    Elapsed: 0:01:18.    Loss: 0.95.    Accuracy: 0.55\n",
      "  Batch   520  of    606.    Elapsed: 0:01:25.    Loss: 0.89.    Accuracy: 0.60\n",
      "  Batch   560  of    606.    Elapsed: 0:01:31.    Loss: 0.94.    Accuracy: 0.56\n",
      "  Batch   600  of    606.    Elapsed: 0:01:38.    Loss: 0.89.    Accuracy: 0.60\n",
      "\n",
      "  Average training loss: 0.97\n",
      "  Average training accuracy: 0.52\n",
      "  Final training loss: 1.14\n",
      "  Final training accuracy: 0.56\n",
      "  Training epoch took: 0:01:39\n",
      "\n",
      "Running Validation...\n",
      "  Loss: 0.87\n",
      "  Accuracy: 0.61\n",
      "  Validation took: 0:00:08\n",
      "\n",
      "======== Epoch 2 / 3 ========\n",
      "Training...\n",
      "  Batch    40  of    606.    Elapsed: 0:00:07.    Loss: 0.81.    Accuracy: 0.67\n",
      "  Batch    80  of    606.    Elapsed: 0:00:13.    Loss: 0.71.    Accuracy: 0.69\n",
      "  Batch   120  of    606.    Elapsed: 0:00:19.    Loss: 0.82.    Accuracy: 0.65\n",
      "  Batch   160  of    606.    Elapsed: 0:00:26.    Loss: 0.79.    Accuracy: 0.67\n",
      "  Batch   200  of    606.    Elapsed: 0:00:32.    Loss: 0.76.    Accuracy: 0.67\n",
      "  Batch   240  of    606.    Elapsed: 0:00:38.    Loss: 0.78.    Accuracy: 0.64\n",
      "  Batch   280  of    606.    Elapsed: 0:00:44.    Loss: 0.79.    Accuracy: 0.65\n",
      "  Batch   320  of    606.    Elapsed: 0:00:51.    Loss: 0.75.    Accuracy: 0.66\n",
      "  Batch   360  of    606.    Elapsed: 0:00:57.    Loss: 0.77.    Accuracy: 0.67\n",
      "  Batch   400  of    606.    Elapsed: 0:01:03.    Loss: 0.76.    Accuracy: 0.68\n",
      "  Batch   440  of    606.    Elapsed: 0:01:09.    Loss: 0.75.    Accuracy: 0.66\n",
      "  Batch   480  of    606.    Elapsed: 0:01:15.    Loss: 0.73.    Accuracy: 0.70\n",
      "  Batch   520  of    606.    Elapsed: 0:01:21.    Loss: 0.74.    Accuracy: 0.69\n",
      "  Batch   560  of    606.    Elapsed: 0:01:27.    Loss: 0.80.    Accuracy: 0.66\n",
      "  Batch   600  of    606.    Elapsed: 0:01:33.    Loss: 0.76.    Accuracy: 0.67\n",
      "\n",
      "  Average training loss: 0.77\n",
      "  Average training accuracy: 0.67\n",
      "  Final training loss: 0.88\n",
      "  Final training accuracy: 0.62\n",
      "  Training epoch took: 0:01:34\n",
      "\n",
      "Running Validation...\n",
      "  Loss: 0.84\n",
      "  Accuracy: 0.63\n",
      "  Validation took: 0:00:08\n",
      "\n",
      "======== Epoch 3 / 3 ========\n",
      "Training...\n",
      "  Batch    40  of    606.    Elapsed: 0:00:06.    Loss: 0.64.    Accuracy: 0.75\n",
      "  Batch    80  of    606.    Elapsed: 0:00:12.    Loss: 0.66.    Accuracy: 0.74\n",
      "  Batch   120  of    606.    Elapsed: 0:00:18.    Loss: 0.66.    Accuracy: 0.73\n",
      "  Batch   160  of    606.    Elapsed: 0:00:24.    Loss: 0.61.    Accuracy: 0.77\n",
      "  Batch   200  of    606.    Elapsed: 0:00:31.    Loss: 0.65.    Accuracy: 0.75\n",
      "  Batch   240  of    606.    Elapsed: 0:00:37.    Loss: 0.66.    Accuracy: 0.73\n",
      "  Batch   280  of    606.    Elapsed: 0:00:43.    Loss: 0.64.    Accuracy: 0.74\n",
      "  Batch   320  of    606.    Elapsed: 0:00:49.    Loss: 0.64.    Accuracy: 0.74\n",
      "  Batch   360  of    606.    Elapsed: 0:00:55.    Loss: 0.65.    Accuracy: 0.71\n",
      "  Batch   400  of    606.    Elapsed: 0:01:01.    Loss: 0.60.    Accuracy: 0.75\n",
      "  Batch   440  of    606.    Elapsed: 0:01:07.    Loss: 0.60.    Accuracy: 0.75\n",
      "  Batch   480  of    606.    Elapsed: 0:01:13.    Loss: 0.63.    Accuracy: 0.75\n",
      "  Batch   520  of    606.    Elapsed: 0:01:19.    Loss: 0.61.    Accuracy: 0.77\n",
      "  Batch   560  of    606.    Elapsed: 0:01:25.    Loss: 0.64.    Accuracy: 0.72\n",
      "  Batch   600  of    606.    Elapsed: 0:01:32.    Loss: 0.68.    Accuracy: 0.72\n",
      "\n",
      "  Average training loss: 0.64\n",
      "  Average training accuracy: 0.74\n",
      "  Final training loss: 0.53\n",
      "  Final training accuracy: 0.75\n",
      "  Training epoch took: 0:01:32\n",
      "\n",
      "Running Validation...\n",
      "  Loss: 0.87\n",
      "  Accuracy: 0.63\n",
      "  Validation took: 0:00:08\n",
      "\n",
      "Training complete!\n",
      "CPU times: total: 5min 11s\n",
      "Wall time: 5min 11s\n"
     ]
    }
   ],
   "source": [
    "%%time\n",
    "\n",
    "for epoch in range(0, NUM_EPOCHS):\n",
    "\n",
    "    # ========================================\n",
    "    #               Training\n",
    "    # ========================================\n",
    "          \n",
    "    print(\"\")\n",
    "    print(\"======== Epoch {:} / {:} ========\".format(epoch + 1, NUM_EPOCHS))\n",
    "    print(\"Training...\")\n",
    "\n",
    "    # Measure how long the training epoch takes.\n",
    "    t0 = time.time()\n",
    "\n",
    "    # Reset the total loss for this epoch.\n",
    "    total_loss, total_accuracy = 0, 0\n",
    "\n",
    "    # Put the model into training mode.\n",
    "    model.train()\n",
    "\n",
    "    # torch.backends.cudnn.benchmark = True\n",
    "\n",
    "    # For each batch of training data...\n",
    "    for step, batch in enumerate(train_dataloader):\n",
    "            \n",
    "        # Progress update every 40 batches.\n",
    "        if step % 40 == 0 and not step == 0:\n",
    "            # Calculate elapsed time in minutes.\n",
    "            elapsed = format_time(time.time() - t0)\n",
    "            \n",
    "            # Report progress.\n",
    "            print(\"  Batch {:>5,}  of  {:>5,}.    Elapsed: {:}.    Loss: {:0.2f}.    Accuracy: {:0.2f}\".format(\n",
    "                step, \n",
    "                len(train_dataloader), \n",
    "                elapsed, \n",
    "                sum(loss_values[-40:])/40, \n",
    "                sum(accuracy_values[-40:])/40)\n",
    "            )\n",
    "\n",
    "        # Unpack this training batch from our dataloader.\n",
    "        b_input_ids = batch[0].to(device)\n",
    "        b_input_mask = batch[1].to(device)\n",
    "        b_token_type_ids = batch[2].to(device)\n",
    "        b_labels = batch[3].to(device)\n",
    "\n",
    "        # Clear out the gradients (by default they accumulate)\n",
    "        model.zero_grad()\n",
    "\n",
    "        # Perform a forward pass.\n",
    "        outputs = model(\n",
    "            b_input_ids,\n",
    "            token_type_ids=b_token_type_ids,\n",
    "            attention_mask=b_input_mask,\n",
    "            labels=b_labels\n",
    "        )\n",
    "\n",
    "        loss = outputs[0]\n",
    "        logits = outputs[1]\n",
    "\n",
    "        # Move to CPU\n",
    "        logits = logits.detach().cpu().numpy()\n",
    "        label_ids = b_labels.to(\"cpu\").numpy()\n",
    "\n",
    "        # Calculate accuracy\n",
    "        batch_accuracy = flat_accuracy(logits, label_ids)\n",
    "\n",
    "        # Accumulate the training loss and accuracy over all of the batches so we can get the average at the end\n",
    "        total_loss += loss.item() \n",
    "        total_accuracy += batch_accuracy\n",
    "\n",
    "        # Store the loss and accuracy value for plotting the learning curve.\n",
    "        loss_values.append(loss.item())\n",
    "        accuracy_values.append(batch_accuracy)\n",
    "\n",
    "        # Perform a backward pass to calculate the gradients.\n",
    "        loss.backward()\n",
    "        \n",
    "        # Clip the norm of the gradients to 1.0 to prevent \"exploding gradients\".\n",
    "        torch.nn.utils.clip_grad_norm_(model.parameters(), 1.0)\n",
    "\n",
    "        # Take a step and update parameters based on the computed gradient.\n",
    "        optimizer.step()\n",
    "\n",
    "        # Scheduler updates the learning rate over time.\n",
    "        scheduler.step()\n",
    "\n",
    "    # Finished training this epoch.\n",
    "    # Calculate average loss over all of the batches.\n",
    "    avg_train_loss = total_loss / len(train_dataloader)\n",
    "    avg_train_accuracy = total_accuracy / len(train_dataloader)\n",
    "\n",
    "    print(\"\")\n",
    "    print(\"  Average training loss: {0:.2f}\".format(avg_train_loss))\n",
    "    print(\"  Average training accuracy: {0:.2f}\".format(avg_train_accuracy))\n",
    "    print(\"  Final training loss: {0:.2f}\".format(loss_values[-1]))\n",
    "    print(\"  Final training accuracy: {0:.2f}\".format(accuracy_values[-1]))\n",
    "    print(\"  Training epoch took: {:}\".format(format_time(time.time() - t0)))\n",
    "\n",
    "    # ========================================\n",
    "    #               Validation\n",
    "    # ========================================\n",
    "    # After the completion of each training epoch, measure our performance on\n",
    "    # our validation set.\n",
    "\n",
    "    print(\"\")\n",
    "    print(\"Running Validation...\")\n",
    "\n",
    "    t0 = time.time()\n",
    "\n",
    "    # Put the model in evaluation mode\n",
    "    model.eval()\n",
    "\n",
    "    # Tracking variables\n",
    "    total_eval_loss, total_eval_accuracy = 0, 0\n",
    "    num_eval_steps = 0\n",
    "\n",
    "    # For each batch of validation data...\n",
    "    for batch in val_dataloader:\n",
    "\n",
    "        # Unpack batch from our dataloader.\n",
    "        b_input_ids = batch[0].to(device)\n",
    "        b_input_mask = batch[1].to(device)\n",
    "        b_token_type_ids = batch[2].to(device)\n",
    "        b_labels = batch[3].to(device)\n",
    "\n",
    "        # Tell pytorch not to bother with constructing the compute graph during evaluation\n",
    "        with torch.no_grad():\n",
    "            outputs = model( # Logits are the model outputs prior to applying an activation function such as softmax.\n",
    "                b_input_ids,\n",
    "                token_type_ids=b_token_type_ids,\n",
    "                attention_mask=b_input_mask,\n",
    "                labels=b_labels\n",
    "            )\n",
    "\n",
    "        loss = outputs[0]\n",
    "        logits = outputs[1]\n",
    "\n",
    "        # Move to CPU\n",
    "        logits = logits.detach().cpu().numpy()\n",
    "        label_ids = b_labels.to(\"cpu\").numpy()\n",
    "\n",
    "        # Calculate the accuracy for this batch of test sentences.\n",
    "        batch_eval_accuracy = flat_accuracy(logits, label_ids)\n",
    "\n",
    "        # Accumlate loss and accuracy.\n",
    "        total_eval_loss += loss.item()\n",
    "        total_eval_accuracy += batch_eval_accuracy\n",
    "\n",
    "        num_eval_steps += 1\n",
    "\n",
    "    # Calculate the average loss and accuracy over all batches, and store for plotting.\n",
    "    eval_loss = total_eval_loss / num_eval_steps\n",
    "    eval_accuracy = total_eval_accuracy / num_eval_steps\n",
    "\n",
    "    # Store the loss and accuracy value for plotting the learning curve. We only need to do this once per epoch in validation.\n",
    "    val_loss_values.append(eval_loss)\n",
    "    val_accuracy_values.append(eval_accuracy)\n",
    "\n",
    "    # Print accuracy over all batches\n",
    "    print(\"  Loss: {0:.2f}\".format(eval_loss))\n",
    "    print(\"  Accuracy: {0:.2f}\".format(eval_accuracy))\n",
    "    print(\"  Validation took: {:}\".format(format_time(time.time() - t0)))\n",
    "\n",
    "    # Save the model checkpoint    \n",
    "    torch.save(model.state_dict(), '{}/model_checkpoint_{:}_{}ep_{:0.0f}acc.pt'.format(MODELS_DIR, time.strftime(\"%Y%m%d-%H%M\"), epoch+1, eval_accuracy*100))\n",
    "\n",
    "    # Use the garbage collector to save memory.\n",
    "    gc.collect()\n",
    "\n",
    "print(\"\")\n",
    "print(\"Training complete!\")"
   ]
  },
  {
   "cell_type": "markdown",
   "metadata": {},
   "source": [
    "## Visualize and Evaluting the Model"
   ]
  },
  {
   "cell_type": "code",
   "execution_count": 25,
   "metadata": {},
   "outputs": [
    {
     "name": "stdout",
     "output_type": "stream",
     "text": [
      "[1.1163535284996033, 1.09445378780365, 1.0857003593444825, 1.0589845275878906, 1.0242486691474915, 0.967253007888794, 0.9605813026428223, 0.9780886745452881, 0.9700891709327698, 1.0013802766799926, 0.940884222984314, 0.9402871131896973, 0.970627019405365, 0.9778765654563903, 0.9562707114219665, 0.9008043670654297, 0.9396983337402344, 0.9614556527137756, 0.9202276182174682, 0.897247142791748, 0.8849274945259095, 0.9625440502166748, 0.909898760318756, 0.888244354724884, 0.8460721635818481, 0.7694114339351654, 0.7287603235244751, 0.7304187965393066, 0.8422008633613587, 0.8137454271316529, 0.7403089320659637, 0.7612618160247803, 0.7945981454849244, 0.7837717819213867, 0.7871279227733612, 0.7833138251304627, 0.7483844566345215, 0.7598099946975708, 0.7725727975368499, 0.7679017543792724, 0.7583208441734314, 0.7208778202533722, 0.7559217166900635, 0.7319130253791809, 0.7172589814662933, 0.8183003449440003, 0.7946350240707397, 0.7656403970718384, 0.6802670776844024, 0.6567850005626679, 0.6588752686977386, 0.6573109793663025, 0.664339120388031, 0.638649445772171, 0.6229624664783477, 0.6152716636657715, 0.6648486816883087, 0.6582917308807373, 0.6478916418552398, 0.6332350730895996, 0.6336357474327088, 0.6834523618221283, 0.6379501330852508, 0.5857641184329987, 0.6066479063034058, 0.5884044218063355, 0.6027613127231598, 0.6441606199741363, 0.6293221873044967, 0.5996117043495178, 0.671069985628128, 0.695656543970108]\n",
      "[12, 37, 62, 87, 112, 137, 162, 187, 212, 237, 262, 287, 312, 337, 362, 387, 412, 437, 462, 487, 512, 537, 562, 587, 612, 637, 662, 687, 712, 737, 762, 787, 812, 837, 862, 887, 912, 937, 962, 987, 1012, 1037, 1062, 1087, 1112, 1137, 1162, 1187, 1212, 1237, 1262, 1287, 1312, 1337, 1362, 1387, 1412, 1437, 1462, 1487, 1512, 1537, 1562, 1587, 1612, 1637, 1662, 1687, 1712, 1737, 1762, 1787]\n"
     ]
    }
   ],
   "source": [
    "# Smooth the graph a little by averaging the values in groups of k size\n",
    "k = 25\n",
    "smooth_loss_values = [sum(loss_values[(i*k):(i*k)+k]) / float(k) for i in range(0, int(len(loss_values) / k))]\n",
    "print(smooth_loss_values)\n",
    "smooth_loss_values_x = [(i * k) + int(k / 2) for i in range(0, (int(len(loss_values) / k)))]\n",
    "print(smooth_loss_values_x)"
   ]
  },
  {
   "cell_type": "code",
   "execution_count": 26,
   "metadata": {},
   "outputs": [
    {
     "name": "stdout",
     "output_type": "stream",
     "text": [
      "[606, 1212, 1818]\n",
      "[0.8708176895191795, 0.8379430266979494, 0.8678202431060766]\n"
     ]
    }
   ],
   "source": [
    "# Setup Validation Loss\n",
    "val_loss_values_x = [i * int(len(loss_values) / NUM_EPOCHS) for i in range(1, NUM_EPOCHS + 1)]\n",
    "print(val_loss_values_x)\n",
    "print(val_loss_values)"
   ]
  },
  {
   "cell_type": "code",
   "execution_count": 27,
   "metadata": {},
   "outputs": [
    {
     "data": {
      "image/png": "[encoded data removed]",
      "text/plain": [
       "<Figure size 1200x600 with 1 Axes>"
      ]
     },
     "metadata": {},
     "output_type": "display_data"
    }
   ],
   "source": [
    "import matplotlib.pyplot as plt\n",
    "%matplotlib inline\n",
    "\n",
    "import seaborn as sns\n",
    "\n",
    "# Use plot styling from seaborn.\n",
    "sns.set(style='darkgrid')\n",
    "\n",
    "# Increase the plot size and font size.\n",
    "sns.set(font_scale=1.5)\n",
    "plt.rcParams[\"figure.figsize\"] = (12,6)\n",
    "\n",
    "# Plot the learning curve.\n",
    "# plt.plot(loss_values, 'b-o')\n",
    "plt.plot(smooth_loss_values_x, smooth_loss_values, 'r-o')\n",
    "plt.plot(val_loss_values_x, val_loss_values, 'g-o')\n",
    "\n",
    "# Label the plot.\n",
    "plt.title(\"Training loss (Red) vs Validation loss (Green)\")\n",
    "plt.xlabel(\"Step\")\n",
    "plt.ylabel(\"Loss\")\n",
    "\n",
    "plt.show()"
   ]
  },
  {
   "cell_type": "markdown",
   "metadata": {},
   "source": [
    "## Make predictions"
   ]
  },
  {
   "cell_type": "code",
   "execution_count": null,
   "metadata": {},
   "outputs": [],
   "source": []
  }
 ],
 "metadata": {
  "kernelspec": {
   "display_name": "Python 3",
   "language": "python",
   "name": "python3"
  },
  "language_info": {
   "codemirror_mode": {
    "name": "ipython",
    "version": 3
   },
   "file_extension": ".py",
   "mimetype": "text/x-python",
   "name": "python",
   "nbconvert_exporter": "python",
   "pygments_lexer": "ipython3",
   "version": "3.11.4"
  },
  "orig_nbformat": 4
 },
 "nbformat": 4,
 "nbformat_minor": 2
}
